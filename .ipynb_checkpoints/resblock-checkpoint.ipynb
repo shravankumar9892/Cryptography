{
 "cells": [
  {
   "cell_type": "markdown",
   "metadata": {},
   "source": [
    "# Cipher Salsa20"
   ]
  },
  {
   "cell_type": "code",
   "execution_count": 1,
   "metadata": {},
   "outputs": [
    {
     "name": "stdout",
     "output_type": "stream",
     "text": [
      "Requirement already satisfied: salsa20 in /home/shravan/anaconda3/lib/python3.6/site-packages (0.3.0)\r\n"
     ]
    }
   ],
   "source": [
    "!pip install salsa20"
   ]
  },
  {
   "cell_type": "code",
   "execution_count": 2,
   "metadata": {},
   "outputs": [],
   "source": [
    "from salsa20 import XSalsa20_xor\n",
    "import hashlib, binascii\n",
    "from os import urandom"
   ]
  },
  {
   "cell_type": "markdown",
   "metadata": {},
   "source": [
    "## Creating byte object"
   ]
  },
  {
   "cell_type": "code",
   "execution_count": 3,
   "metadata": {},
   "outputs": [],
   "source": [
    "# Converting into byte object\n",
    "\n",
    "def get_bytes(data):\n",
    "    b = bytes(data, 'utf-8')\n",
    "    return b"
   ]
  },
  {
   "cell_type": "markdown",
   "metadata": {},
   "source": [
    "## Unique key generation"
   ]
  },
  {
   "cell_type": "code",
   "execution_count": 4,
   "metadata": {},
   "outputs": [],
   "source": [
    "# Unique key\n",
    "def key():\n",
    "    return binascii.hexlify(hashlib.pbkdf2_hmac('sha256', get_bytes(input('Typein your Admission no.')), urandom(24), 100000, dklen = 16))"
   ]
  },
  {
   "cell_type": "code",
   "execution_count": 5,
   "metadata": {},
   "outputs": [
    {
     "name": "stdout",
     "output_type": "stream",
     "text": [
      "Typein your Admission no.U17ME087\n"
     ]
    }
   ],
   "source": [
    "# Keep it confidential\n",
    "iv = urandom(24)\n",
    "key_ = key()"
   ]
  },
  {
   "cell_type": "code",
   "execution_count": 6,
   "metadata": {},
   "outputs": [],
   "source": [
    "# mode tells the function whether the user \n",
    "# is going to pass the data through customized \n",
    "# input or through a pre-exsisting file \n",
    "\n",
    "def encryption(mode): \n",
    "    if mode == 'input':\n",
    "        encrypted_data = XSalsa20_xor(get_bytes(input()), iv, key_)\n",
    "        return encrypted_data\n",
    "    elif mode == 'file':\n",
    "        with open(input('Enter the file name with its extension: '), 'r') as myfile:\n",
    "            data = myfile.read().replace('\\n', '')\n",
    "        encrypted_data = XSalsa20_xor(get_bytes(data) , iv, key_)\n",
    "        return encrypted_data    \n",
    "    "
   ]
  },
  {
   "cell_type": "code",
   "execution_count": 7,
   "metadata": {},
   "outputs": [
    {
     "name": "stdout",
     "output_type": "stream",
     "text": [
      "Enter 'input' or 'file' depending upon your source of inputfile\n",
      "Enter the file name with its extension: bitcoin.txt\n"
     ]
    }
   ],
   "source": [
    "cipher_data = encryption(mode = input('Enter \\'input\\' or \\'file\\' depending upon your source of input'))"
   ]
  },
  {
   "cell_type": "code",
   "execution_count": 10,
   "metadata": {},
   "outputs": [
    {
     "name": "stdout",
     "output_type": "stream",
     "text": [
      "Name of the file to be savedencrypted_data\n"
     ]
    }
   ],
   "source": [
    "def file_io(data = None, create = True):\n",
    "    if create == True:\n",
    "        open(input('Name of the file to be saved: '), 'wb').write(data)\n",
    "    elif create == False:\n",
    "        file_data = open(input('Name file that is to be read: '), 'rb').read()\n",
    "        return file_data\n",
    "\n",
    "file_io(data = cipher_data, create = True)    "
   ]
  },
  {
   "cell_type": "code",
   "execution_count": 11,
   "metadata": {},
   "outputs": [],
   "source": [
    "bytes_read = open(\"encrypted_data\", \"rb\").read()"
   ]
  },
  {
   "cell_type": "code",
   "execution_count": 14,
   "metadata": {},
   "outputs": [
    {
     "data": {
      "text/plain": [
       "True"
      ]
     },
     "execution_count": 14,
     "metadata": {},
     "output_type": "execute_result"
    }
   ],
   "source": [
    "bytes_read == cipher_data"
   ]
  },
  {
   "cell_type": "code",
   "execution_count": null,
   "metadata": {},
   "outputs": [],
   "source": [
    "# Decoding the encrypted message with the unique key\n",
    "print(XSalsa20_xor(cipher_data, iv, key_).decode())"
   ]
  }
 ],
 "metadata": {
  "kernelspec": {
   "display_name": "Python 3",
   "language": "python",
   "name": "python3"
  },
  "language_info": {
   "codemirror_mode": {
    "name": "ipython",
    "version": 3
   },
   "file_extension": ".py",
   "mimetype": "text/x-python",
   "name": "python",
   "nbconvert_exporter": "python",
   "pygments_lexer": "ipython3",
   "version": "3.6.5"
  }
 },
 "nbformat": 4,
 "nbformat_minor": 2
}
