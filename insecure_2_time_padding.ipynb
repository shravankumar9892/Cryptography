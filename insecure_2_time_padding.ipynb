{
 "cells": [
  {
   "cell_type": "markdown",
   "metadata": {},
   "source": [
    "# Insecurity\n",
    "#### Showcasing why is it insecure to use same unique key twice"
   ]
  },
  {
   "cell_type": "code",
   "execution_count": null,
   "metadata": {},
   "outputs": [],
   "source": [
    "from salsa20 import XSalsa20_xor\n",
    "import hashlib, binascii\n",
    "from os import urandom\n",
    "import sys"
   ]
  },
  {
   "cell_type": "markdown",
   "metadata": {},
   "source": [
    "### Creating byte object"
   ]
  },
  {
   "cell_type": "code",
   "execution_count": null,
   "metadata": {},
   "outputs": [],
   "source": [
    "# Converting into byte object\n",
    "\n",
    "def get_bytes(data):\n",
    "    b = bytes(data, 'utf-8')\n",
    "    return b"
   ]
  },
  {
   "cell_type": "markdown",
   "metadata": {},
   "source": [
    "### Unique Key generation"
   ]
  },
  {
   "cell_type": "code",
   "execution_count": null,
   "metadata": {},
   "outputs": [],
   "source": [
    "# Unique key\n",
    "def key():\n",
    "    return binascii.hexlify(hashlib.pbkdf2_hmac('sha256', get_bytes(input('Typein your Admission no.')), urandom(24), 100000, dklen = 16))"
   ]
  },
  {
   "cell_type": "code",
   "execution_count": null,
   "metadata": {},
   "outputs": [],
   "source": [
    "# Keep it confidential\n",
    "iv = urandom(24)\n",
    "key_ = key()"
   ]
  },
  {
   "cell_type": "markdown",
   "metadata": {},
   "source": [
    "### Encrypting the message"
   ]
  },
  {
   "cell_type": "code",
   "execution_count": null,
   "metadata": {},
   "outputs": [],
   "source": [
    "# Creating encrypted data 1\n",
    "encrypted_data_1 = XSalsa20_xor(get_bytes(input()), iv, key_)\n",
    "\n",
    "# Creating encrypted data 2\n",
    "encrypted_data_2 = XSalsa20_xor(get_bytes(input()), iv, key_)\n",
    "\n",
    "# Check how does len of output of XSalsa20_xor vary with the inputs\n",
    "# And then add the changes into len(encrypted_data_1 in the cell below)"
   ]
  },
  {
   "cell_type": "code",
   "execution_count": null,
   "metadata": {},
   "outputs": [],
   "source": [
    "# Suppose you only have those encrypted messages,\n",
    "# encrypted using the same key and not the actual key\n",
    "# In such you can get the xor of the actual messages \n",
    "# by taking xor of the encrypted messages.\n",
    "\n",
    "xor_int_encrypted = int.from_bytes(encrypted_data_1, sys.byteorder)^int.from_bytes(encrypted_data_2, sys.byteorder)\n",
    "xor_encrypted = xor_int_encrypted.to_bytes(len(encrypted_data_1) , sys.byteorder)"
   ]
  }
 ],
 "metadata": {
  "kernelspec": {
   "display_name": "Python 3",
   "language": "python",
   "name": "python3"
  },
  "language_info": {
   "codemirror_mode": {
    "name": "ipython",
    "version": 3
   },
   "file_extension": ".py",
   "mimetype": "text/x-python",
   "name": "python",
   "nbconvert_exporter": "python",
   "pygments_lexer": "ipython3",
   "version": "3.6.5"
  }
 },
 "nbformat": 4,
 "nbformat_minor": 2
}
